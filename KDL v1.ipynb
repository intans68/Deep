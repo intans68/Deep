{
 "cells": [
  {
   "cell_type": "markdown",
   "metadata": {},
   "source": [
    "Суть идеи проста. При при помощи модуля diff из библиотеки Sympy автоматизируем процесс нахождения формул частных производных!!! По полученным формулам вычисляем поправки и осущаствяем градиентый спуск.\n",
    "- Имеются функции активации: Sigmoid (Сигмода) и Tahn(Гиперболический тангенс). Легко добавить любые другие.\n",
    "- 1 функция потерь (квадратичная). Легко добавить другие.\n",
    "- Имеется небольшая оптимизация Learning Rate.  \n",
    "\n",
    "ГЛАВНЫЙ МИНУС ! Не реализован алгоритм обратного распространения ошибки !!! (\n",
    "     \n",
    "Sympy поддерживает numpy-массивы, но проиводительность низкая из-за однопоточных рассчетов. \n",
    "\n",
    "В данном виде проект совершенно не доработан. ПРОШУ ПРОЩЕНИЯ !"
   ]
  },
  {
   "cell_type": "code",
   "execution_count": null,
   "metadata": {
    "scrolled": true
   },
   "outputs": [],
   "source": []
  },
  {
   "cell_type": "code",
   "execution_count": 40,
   "metadata": {},
   "outputs": [],
   "source": [
    "import math\n",
    "\n",
    "import numpy as np\n",
    "from sklearn import datasets\n",
    "import matplotlib.pyplot as plt\n",
    "\n",
    "%matplotlib inline\n",
    "\n",
    "\n",
    "from sympy import diff, lambdify, symbols\n",
    "import re\n",
    "from copy import deepcopy"
   ]
  },
  {
   "cell_type": "code",
   "execution_count": 41,
   "metadata": {},
   "outputs": [],
   "source": [
    "# формируем датасэт\n",
    "X, Y = datasets.make_regression(n_samples=10000, n_features = 60, n_informative = 2, n_targets = 1, \n",
    "                                              noise = 25, coef = False, random_state = 2) "
   ]
  },
  {
   "cell_type": "code",
   "execution_count": 19,
   "metadata": {},
   "outputs": [],
   "source": [
    "def standart(data):  # Стандартизация \n",
    "    means = np.mean(X, axis=0)\n",
    "    stds = np.std(X, axis=0)\n",
    "\n",
    "    for i in range(data.shape[0]):\n",
    "        for j in range(data.shape[1]):\n",
    "            data[i][j] = (data[i][j] - means[j])/stds[j]\n",
    "    return data"
   ]
  },
  {
   "cell_type": "code",
   "execution_count": 20,
   "metadata": {},
   "outputs": [],
   "source": [
    "def normal(data): # Нормализация \n",
    "    for i in range (data.shape[0]):\n",
    "        data_max_min = np.max(data[i]) - np.min(data[i])  \n",
    "        data_min = np.min(data[i]) \n",
    "        for j in range (data.shape[1]):\n",
    "            data[i][j] = (data[i][j] - data_min)/data_max_min\n",
    "    return data"
   ]
  },
  {
   "cell_type": "code",
   "execution_count": 21,
   "metadata": {},
   "outputs": [],
   "source": [
    "# Функции создания слоев сети\n",
    "\n",
    "\n",
    "# Создание входного слоя, функция принимает количество входов (фичей) и количество нейронов в слое,\n",
    "# функцию активации. \n",
    "# ДОСТУПНЫ Sigmoid, Tahn и None (без функции активации)\n",
    "# Формирутся и возвращается формула(-ы) ввиде строки (str). \n",
    "\n",
    "def add_input_layer(inputs, neurons, activation):\n",
    "    num_inputs = []\n",
    "    num_w = []\n",
    "    neuron = []\n",
    "\n",
    "    for _ in range( inputs):\n",
    "\n",
    "        num_inputs.append('x'+str(_+1))\n",
    "    \n",
    "        num_w.append('w'+str(_+1))\n",
    "\n",
    "\n",
    "\n",
    "    \n",
    "    for _ in range(neurons):\n",
    "        neuron.append('b'+str(_+1))\n",
    "    #print(neuron) ############\n",
    "\n",
    "\n",
    "    layer = []\n",
    "    for n in neuron:\n",
    "        st =''\n",
    "        for perem in range(len(num_inputs)):\n",
    "            st = st + num_inputs[perem]+' * '+ num_w[perem]+' + '\n",
    "        \n",
    "        if activation == 'None':\n",
    "            layer.append  (st + n ) # линейная\n",
    "        elif activation == \"Sigmoid\":\n",
    "            layer.append  ('1/1+'+str(2.718)+'**-('+st + n+')'  ) # добавление СИГМОИДНОЙ функции активации\n",
    "            \n",
    "        elif activation==\"Tahn\":\n",
    "            layer.append('('+str(2.718)+'**(2*('+st + n+'))-1)/('+str(2.718)+'**(2*('+st + n+'))+1)' )\n",
    "    \n",
    "    \n",
    "    #print(st)\n",
    "\n",
    "        \n",
    "    n = 1\n",
    "\n",
    "    while n< len(layer):\n",
    "    \n",
    "        for i in range(inputs): \n",
    "            pat = 'w'+ str(i+1)+' '\n",
    "            su =  'w' + str(n*inputs+i+1)+' '\n",
    "            layer[n] = re.sub(pat , su     ,layer[n])\n",
    "\n",
    "  \n",
    "        n+=1\n",
    "\n",
    "    return layer\n",
    "\n",
    "\n",
    "\n",
    "# Создание дополнительных слоев. В качестве агрументов принимает массив (list), созданый функцией \"add_input_layer\", \n",
    "# количестово нейронов и activation . Возвращает массив (list) формул нейронной сети.\n",
    "\n",
    "\n",
    "def add_layer(layer, neurons,activation):\n",
    "    num_inputs = []\n",
    "    num_w = []\n",
    "    neuron = []\n",
    "\n",
    "    for _ in range(len(layer)):\n",
    "\n",
    "        num_inputs.append('c'+str(_+1))\n",
    "    \n",
    "        num_w.append('w'+str(_+1))\n",
    "\n",
    "\n",
    "    \n",
    "    b_kol_1 = re.findall(\"b\\d+\", layer[-1])\n",
    "    b_max = int(b_kol_1[-1][1:])\n",
    "    #print(\"Кол-во нейронов на предыдущем слое\", b_max) ########\n",
    "\n",
    "\n",
    "\n",
    "    \n",
    "    for _ in range(neurons):\n",
    "        neuron.append('b'+str(b_max+_+1))\n",
    "\n",
    "\n",
    "\n",
    "    layer2 = []\n",
    "    for n in neuron:\n",
    "        st =''\n",
    "        for perem in range(len(num_inputs)):\n",
    "            st = st + num_inputs[perem]+' * '+ num_w[perem]+' + '\n",
    "\n",
    "            \n",
    "        if activation==\"None\":\n",
    "            layer2.append  ( '('+st + n+')'  )\n",
    "        elif activation==\"Sigmoid\":\n",
    "            layer2.append  ('1/1+'+str(2.718)+'**-('+st + n+')'  )\n",
    "        \n",
    "        elif activation==\"Tahn\":\n",
    "            layer2.append('('+str(2.718)+'**(2*('+st + n+'))-1)/('+str(2.718)+'**(2*('+st + n+'))+1)' )\n",
    "    \n",
    "    \n",
    "    \n",
    "    \n",
    "    n = 0\n",
    "    m = 1\n",
    "\n",
    "    w_kol_1 = re.findall(\"w\\d+\", layer[-1])\n",
    "    w_max = int(w_kol_1[-1][1:])\n",
    "    #print(\"Кол-во весов на предыдущем слое\", w_max) ######\n",
    "    \n",
    "    while n< len(layer2):\n",
    "    \n",
    "        for i in range(len(layer)):\n",
    "\n",
    "        \n",
    "            pat = 'w'+ str(i+1)+' '\n",
    "            su =  'w' + str(w_max+m)+' '\n",
    "\n",
    "            layer2[n] = re.sub(pat , su     ,layer2[n])\n",
    "            m+=1\n",
    "\n",
    "        #print (n, \"!!!!!\", (n)*len(layer)+i+1 ,\"!!!!!\", pat, layer2[n]) ####\n",
    "\n",
    "       \n",
    "    \n",
    "        n+=1\n",
    "\n",
    "    #print(layer2)\n",
    "    \n",
    "    \n",
    "    \n",
    "    n = 0\n",
    "    for _ in range(len(layer2)):\n",
    "        while n< len(layer):\n",
    "            pat = 'c'+ str(n+1)+' '\n",
    "            su =  '(' +layer[n]+')' +' '\n",
    "            layer2[_] = re.sub(pat , su ,layer2[_])\n",
    "            n+=1\n",
    "\n",
    "\n",
    "        n=0\n",
    "    \n",
    "    #print(layer2)\n",
    "    \n",
    "    return layer2\n",
    "\n",
    "\n",
    "        \n"
   ]
  },
  {
   "cell_type": "code",
   "execution_count": 42,
   "metadata": {},
   "outputs": [],
   "source": [
    "# ПРИМЕР СОЗДАНИЯ НЕЙРОННОЙ СЕТИ\n",
    "\n",
    "# net = add_input_layer (5, 3, activation=\"Sigmoid\") 5 входов, 3 нейрона, Активация \"Сигмоида\".\n",
    "# net = add_layer (net, 3, activation=\"Tahn\") Подключение скрытого(или выходного) слоя к предыдущему. Передаем количетво нейронов в слое.\n",
    "# net = add_layer (net, 1, activation=\"None\") В данном случае создается выходной слой с 1 нейроном.\n",
    "\n",
    "# ЕСЛИ В СЕТИ ТОЛЬКО 1 СЛОЙ - неодходима только функция  add_input_layer "
   ]
  },
  {
   "cell_type": "code",
   "execution_count": null,
   "metadata": {},
   "outputs": [],
   "source": []
  },
  {
   "cell_type": "code",
   "execution_count": 43,
   "metadata": {},
   "outputs": [],
   "source": [
    "# Создание слоя. Количестово входов = количесто фичей. Создадим 1 нейрон т.е. 1 формулу. БЕЗ функции активации\n",
    "net = add_input_layer (X.shape[1], 1, activation=\"None\")\n"
   ]
  },
  {
   "cell_type": "code",
   "execution_count": null,
   "metadata": {},
   "outputs": [],
   "source": []
  },
  {
   "cell_type": "code",
   "execution_count": 44,
   "metadata": {},
   "outputs": [
    {
     "data": {
      "text/plain": [
       "['x1 * w1 + x2 * w2 + x3 * w3 + x4 * w4 + x5 * w5 + x6 * w6 + x7 * w7 + x8 * w8 + x9 * w9 + x10 * w10 + x11 * w11 + x12 * w12 + x13 * w13 + x14 * w14 + x15 * w15 + x16 * w16 + x17 * w17 + x18 * w18 + x19 * w19 + x20 * w20 + x21 * w21 + x22 * w22 + x23 * w23 + x24 * w24 + x25 * w25 + x26 * w26 + x27 * w27 + x28 * w28 + x29 * w29 + x30 * w30 + x31 * w31 + x32 * w32 + x33 * w33 + x34 * w34 + x35 * w35 + x36 * w36 + x37 * w37 + x38 * w38 + x39 * w39 + x40 * w40 + x41 * w41 + x42 * w42 + x43 * w43 + x44 * w44 + x45 * w45 + x46 * w46 + x47 * w47 + x48 * w48 + x49 * w49 + x50 * w50 + x51 * w51 + x52 * w52 + x53 * w53 + x54 * w54 + x55 * w55 + x56 * w56 + x57 * w57 + x58 * w58 + x59 * w59 + x60 * w60 + b1']"
      ]
     },
     "execution_count": 44,
     "metadata": {},
     "output_type": "execute_result"
    }
   ],
   "source": [
    "# Так как созданый объект представляет из себя список (list). В качетве формулы сети забираем его 1-й элемент.\n",
    "net2 = net[0] \n",
    "net"
   ]
  },
  {
   "cell_type": "code",
   "execution_count": 45,
   "metadata": {},
   "outputs": [
    {
     "name": "stdout",
     "output_type": "stream",
     "text": [
      "['b1', 'w1', 'w10', 'w11', 'w12', 'w13', 'w14', 'w15', 'w16', 'w17', 'w18', 'w19', 'w2', 'w20', 'w21', 'w22', 'w23', 'w24', 'w25', 'w26', 'w27', 'w28', 'w29', 'w3', 'w30', 'w31', 'w32', 'w33', 'w34', 'w35', 'w36', 'w37', 'w38', 'w39', 'w4', 'w40', 'w41', 'w42', 'w43', 'w44', 'w45', 'w46', 'w47', 'w48', 'w49', 'w5', 'w50', 'w51', 'w52', 'w53', 'w54', 'w55', 'w56', 'w57', 'w58', 'w59', 'w6', 'w60', 'w7', 'w8', 'w9', 'x1', 'x10', 'x11', 'x12', 'x13', 'x14', 'x15', 'x16', 'x17', 'x18', 'x19', 'x2', 'x20', 'x21', 'x22', 'x23', 'x24', 'x25', 'x26', 'x27', 'x28', 'x29', 'x3', 'x30', 'x31', 'x32', 'x33', 'x34', 'x35', 'x36', 'x37', 'x38', 'x39', 'x4', 'x40', 'x41', 'x42', 'x43', 'x44', 'x45', 'x46', 'x47', 'x48', 'x49', 'x5', 'x50', 'x51', 'x52', 'x53', 'x54', 'x55', 'x56', 'x57', 'x58', 'x59', 'x6', 'x60', 'x7', 'x8', 'x9']\n"
     ]
    }
   ],
   "source": [
    "# формируем список всех переменных имеющихся в функции сети и сортируем. Все X должны быть в конце.\n",
    "li_perem = sorted(list(set(re.findall(\"[w,x,b]\\d+\"    ,net2))))\n",
    "print(li_perem)"
   ]
  },
  {
   "cell_type": "code",
   "execution_count": 46,
   "metadata": {
    "scrolled": true
   },
   "outputs": [
    {
     "name": "stdout",
     "output_type": "stream",
     "text": [
      "[b1, w1, w10, w11, w12, w13, w14, w15, w16, w17, w18, w19, w2, w20, w21, w22, w23, w24, w25, w26, w27, w28, w29, w3, w30, w31, w32, w33, w34, w35, w36, w37, w38, w39, w4, w40, w41, w42, w43, w44, w45, w46, w47, w48, w49, w5, w50, w51, w52, w53, w54, w55, w56, w57, w58, w59, w6, w60, w7, w8, w9, x1, x10, x11, x12, x13, x14, x15, x16, x17, x18, x19, x2, x20, x21, x22, x23, x24, x25, x26, x27, x28, x29, x3, x30, x31, x32, x33, x34, x35, x36, x37, x38, x39, x4, x40, x41, x42, x43, x44, x45, x46, x47, x48, x49, x5, x50, x51, x52, x53, x54, x55, x56, x57, x58, x59, x6, x60, x7, x8, x9, y1]\n"
     ]
    }
   ],
   "source": [
    "# создание символов для SYMPY на основе списка. Получается список из SYMPY классов\n",
    "\n",
    "li =[]\n",
    "for p in li_perem: \n",
    "    symbols(p)\n",
    "    li.append(symbols(p))\n",
    "\n",
    "# для вычисления ошибки добадляем в список название переменной правильного ответа (у). Он должен быть последним.\n",
    "y = symbols('y1')\n",
    "li.append(symbols('y1'))\n",
    "print(li)"
   ]
  },
  {
   "cell_type": "code",
   "execution_count": 47,
   "metadata": {},
   "outputs": [
    {
     "name": "stdout",
     "output_type": "stream",
     "text": [
      "Wall time: 313 ms\n"
     ]
    }
   ],
   "source": [
    "%%time\n",
    "\n",
    "# САМОЕ ВАЖНОЕ. Производные\n",
    "\n",
    "# Используем регуляторные выражения, чтобы сформировать список названий переменных по которым будем брать производные\n",
    "\n",
    "li_for_diff = sorted(list(set(re.findall(\"[w,b]\\d+\"    ,net2)))) # выбирам названия начиющиеся с \"w\" - вес, и \"b\" - смещение\n",
    "\n",
    "\n",
    "#В цикле передам функции sympy.diff формулу ошибки и название переменной по которой берем производную.\n",
    "# Получаем список производых\n",
    "li_dif = []\n",
    "for i in li_for_diff:\n",
    "    proizvod = diff(  \"(\"+net2+\"-y1)**2\" , i)\n",
    "    li_dif.append(proizvod)\n",
    "\n",
    "\n",
    "\n"
   ]
  },
  {
   "cell_type": "code",
   "execution_count": null,
   "metadata": {},
   "outputs": [],
   "source": []
  },
  {
   "cell_type": "code",
   "execution_count": 48,
   "metadata": {},
   "outputs": [],
   "source": [
    "# инициализирум веса и смещение случайным числами\n",
    "\n",
    "zna = []\n",
    "for _ in range(len(li_perem)-X.shape[1]):\n",
    "    zna.append(np.random.normal())\n",
    "\n",
    "\n",
    "    \n",
    "li_x_y = sorted(list(set(re.findall(\"[x,y]\\d+\"   , str(li) ))))\n",
    "\n",
    "\n",
    "# добавляем к полученному массиву наш датасэт\n",
    "for i in li_x_y:\n",
    "    if i[0] == \"x\":\n",
    "        \n",
    "        a = int(i[1:])\n",
    "\n",
    "        zna.append(X.T[a-1]) # добавляем иксы \n",
    "    elif i[0] == \"y\":\n",
    "        b = int(i[1:])\n",
    "\n",
    "        zna.append(Y.T[b-1]) # добавляем правильные ответы\n",
    "        \n",
    "\n"
   ]
  },
  {
   "cell_type": "code",
   "execution_count": 49,
   "metadata": {},
   "outputs": [
    {
     "name": "stdout",
     "output_type": "stream",
     "text": [
      "911.5215511161406\n",
      "-57.88334656497993\n",
      "Wall time: 61.1 ms\n"
     ]
    }
   ],
   "source": [
    "%%time\n",
    "\n",
    "# просто проверка работоспособности и производительности\n",
    "\n",
    "# вычислим лосс\n",
    "loss_funk = lambdify([li], \"(\"+net2+\"-y1)**2\", 'numpy')\n",
    "loss = np.sum(loss_funk(zna))/Y.size\n",
    "print(loss)\n",
    "\n",
    "# вычислим поправку по первому коэффициенту\n",
    "proiz = lambdify([li], li_dif[0] , 'numpy')\n",
    "\n",
    "grad = np.sum(proiz(zna))/Y.size\n",
    "print(grad)\n"
   ]
  },
  {
   "cell_type": "code",
   "execution_count": 50,
   "metadata": {},
   "outputs": [
    {
     "name": "stdout",
     "output_type": "stream",
     "text": [
      "911.5215511161406\n",
      "875.0229550276858\n",
      "LEARNING RATE =  0.02\n",
      "805.6919417527066\n",
      "LEARNING RATE =  0.03\n",
      "710.977213956669\n",
      "627.4427922194593\n",
      "553.7635644566934\n",
      "488.772101111363\n",
      "431.43981820834875\n",
      "380.86039928485417\n",
      "336.23520431254775\n",
      "296.8604265697187\n",
      "262.1157872832084\n",
      "231.45458322448343\n",
      "204.3949247370625\n",
      "180.51202126686354\n",
      "159.43138869066055\n",
      "140.82286787854048\n",
      "124.39535723679909\n",
      "109.89217368008931\n",
      "97.08696677081346\n",
      "85.78011981098203\n",
      "75.79557962748255\n",
      "66.97806378805664\n",
      "59.19060013837293\n",
      "52.312358962400424\n",
      "46.23674282845829\n",
      "40.869703370581\n",
      "36.12825793840057\n",
      "31.93918228941349\n"
     ]
    },
    {
     "ename": "KeyboardInterrupt",
     "evalue": "",
     "output_type": "error",
     "traceback": [
      "\u001b[1;31m---------------------------------------------------------------------------\u001b[0m",
      "\u001b[1;31mKeyboardInterrupt\u001b[0m                         Traceback (most recent call last)",
      "\u001b[1;32m<timed exec>\u001b[0m in \u001b[0;36m<module>\u001b[1;34m\u001b[0m\n",
      "\u001b[1;32mc:\\users\\i\\appdata\\local\\programs\\python\\python36\\lib\\site-packages\\sympy\\utilities\\lambdify.py\u001b[0m in \u001b[0;36mlambdify\u001b[1;34m(args, expr, modules, printer, use_imps, dummify)\u001b[0m\n\u001b[0;32m    826\u001b[0m     \u001b[1;32melse\u001b[0m\u001b[1;33m:\u001b[0m\u001b[1;33m\u001b[0m\u001b[1;33m\u001b[0m\u001b[0m\n\u001b[0;32m    827\u001b[0m         \u001b[0mfuncprinter\u001b[0m \u001b[1;33m=\u001b[0m \u001b[0m_EvaluatorPrinter\u001b[0m\u001b[1;33m(\u001b[0m\u001b[0mprinter\u001b[0m\u001b[1;33m,\u001b[0m \u001b[0mdummify\u001b[0m\u001b[1;33m)\u001b[0m\u001b[1;33m\u001b[0m\u001b[1;33m\u001b[0m\u001b[0m\n\u001b[1;32m--> 828\u001b[1;33m     \u001b[0mfuncstr\u001b[0m \u001b[1;33m=\u001b[0m \u001b[0mfuncprinter\u001b[0m\u001b[1;33m.\u001b[0m\u001b[0mdoprint\u001b[0m\u001b[1;33m(\u001b[0m\u001b[0mfuncname\u001b[0m\u001b[1;33m,\u001b[0m \u001b[0margs\u001b[0m\u001b[1;33m,\u001b[0m \u001b[0mexpr\u001b[0m\u001b[1;33m)\u001b[0m\u001b[1;33m\u001b[0m\u001b[1;33m\u001b[0m\u001b[0m\n\u001b[0m\u001b[0;32m    829\u001b[0m \u001b[1;33m\u001b[0m\u001b[0m\n\u001b[0;32m    830\u001b[0m     \u001b[1;31m# Collect the module imports from the code printers.\u001b[0m\u001b[1;33m\u001b[0m\u001b[1;33m\u001b[0m\u001b[1;33m\u001b[0m\u001b[0m\n",
      "\u001b[1;32mc:\\users\\i\\appdata\\local\\programs\\python\\python36\\lib\\site-packages\\sympy\\utilities\\lambdify.py\u001b[0m in \u001b[0;36mdoprint\u001b[1;34m(self, funcname, args, expr)\u001b[0m\n\u001b[0;32m   1069\u001b[0m         \u001b[0mfuncbody\u001b[0m\u001b[1;33m.\u001b[0m\u001b[0mextend\u001b[0m\u001b[1;33m(\u001b[0m\u001b[0munpackings\u001b[0m\u001b[1;33m)\u001b[0m\u001b[1;33m\u001b[0m\u001b[1;33m\u001b[0m\u001b[0m\n\u001b[0;32m   1070\u001b[0m \u001b[1;33m\u001b[0m\u001b[0m\n\u001b[1;32m-> 1071\u001b[1;33m         \u001b[0mfuncbody\u001b[0m\u001b[1;33m.\u001b[0m\u001b[0mappend\u001b[0m\u001b[1;33m(\u001b[0m\u001b[1;34m'return ({})'\u001b[0m\u001b[1;33m.\u001b[0m\u001b[0mformat\u001b[0m\u001b[1;33m(\u001b[0m\u001b[0mself\u001b[0m\u001b[1;33m.\u001b[0m\u001b[0m_exprrepr\u001b[0m\u001b[1;33m(\u001b[0m\u001b[0mexpr\u001b[0m\u001b[1;33m)\u001b[0m\u001b[1;33m)\u001b[0m\u001b[1;33m)\u001b[0m\u001b[1;33m\u001b[0m\u001b[1;33m\u001b[0m\u001b[0m\n\u001b[0m\u001b[0;32m   1072\u001b[0m \u001b[1;33m\u001b[0m\u001b[0m\n\u001b[0;32m   1073\u001b[0m         \u001b[0mfunclines\u001b[0m \u001b[1;33m=\u001b[0m \u001b[1;33m[\u001b[0m\u001b[0mfuncsig\u001b[0m\u001b[1;33m]\u001b[0m\u001b[1;33m\u001b[0m\u001b[1;33m\u001b[0m\u001b[0m\n",
      "\u001b[1;32mc:\\users\\i\\appdata\\local\\programs\\python\\python36\\lib\\site-packages\\sympy\\printing\\codeprinter.py\u001b[0m in \u001b[0;36mdoprint\u001b[1;34m(self, expr, assign_to)\u001b[0m\n\u001b[0;32m    108\u001b[0m         \u001b[0mself\u001b[0m\u001b[1;33m.\u001b[0m\u001b[0m_number_symbols\u001b[0m \u001b[1;33m=\u001b[0m \u001b[0mset\u001b[0m\u001b[1;33m(\u001b[0m\u001b[1;33m)\u001b[0m  \u001b[1;31m# type: Set[Tuple[Expr, Float]]\u001b[0m\u001b[1;33m\u001b[0m\u001b[1;33m\u001b[0m\u001b[0m\n\u001b[0;32m    109\u001b[0m \u001b[1;33m\u001b[0m\u001b[0m\n\u001b[1;32m--> 110\u001b[1;33m         \u001b[0mlines\u001b[0m \u001b[1;33m=\u001b[0m \u001b[0mself\u001b[0m\u001b[1;33m.\u001b[0m\u001b[0m_print\u001b[0m\u001b[1;33m(\u001b[0m\u001b[0mexpr\u001b[0m\u001b[1;33m)\u001b[0m\u001b[1;33m.\u001b[0m\u001b[0msplitlines\u001b[0m\u001b[1;33m(\u001b[0m\u001b[1;33m)\u001b[0m\u001b[1;33m\u001b[0m\u001b[1;33m\u001b[0m\u001b[0m\n\u001b[0m\u001b[0;32m    111\u001b[0m \u001b[1;33m\u001b[0m\u001b[0m\n\u001b[0;32m    112\u001b[0m         \u001b[1;31m# format the output\u001b[0m\u001b[1;33m\u001b[0m\u001b[1;33m\u001b[0m\u001b[1;33m\u001b[0m\u001b[0m\n",
      "\u001b[1;32mc:\\users\\i\\appdata\\local\\programs\\python\\python36\\lib\\site-packages\\sympy\\printing\\printer.py\u001b[0m in \u001b[0;36m_print\u001b[1;34m(self, expr, **kwargs)\u001b[0m\n\u001b[0;32m    287\u001b[0m                 \u001b[0mprintmethod\u001b[0m \u001b[1;33m=\u001b[0m \u001b[1;34m'_print_'\u001b[0m \u001b[1;33m+\u001b[0m \u001b[0mcls\u001b[0m\u001b[1;33m.\u001b[0m\u001b[0m__name__\u001b[0m\u001b[1;33m\u001b[0m\u001b[1;33m\u001b[0m\u001b[0m\n\u001b[0;32m    288\u001b[0m                 \u001b[1;32mif\u001b[0m \u001b[0mhasattr\u001b[0m\u001b[1;33m(\u001b[0m\u001b[0mself\u001b[0m\u001b[1;33m,\u001b[0m \u001b[0mprintmethod\u001b[0m\u001b[1;33m)\u001b[0m\u001b[1;33m:\u001b[0m\u001b[1;33m\u001b[0m\u001b[1;33m\u001b[0m\u001b[0m\n\u001b[1;32m--> 289\u001b[1;33m                     \u001b[1;32mreturn\u001b[0m \u001b[0mgetattr\u001b[0m\u001b[1;33m(\u001b[0m\u001b[0mself\u001b[0m\u001b[1;33m,\u001b[0m \u001b[0mprintmethod\u001b[0m\u001b[1;33m)\u001b[0m\u001b[1;33m(\u001b[0m\u001b[0mexpr\u001b[0m\u001b[1;33m,\u001b[0m \u001b[1;33m**\u001b[0m\u001b[0mkwargs\u001b[0m\u001b[1;33m)\u001b[0m\u001b[1;33m\u001b[0m\u001b[1;33m\u001b[0m\u001b[0m\n\u001b[0m\u001b[0;32m    290\u001b[0m             \u001b[1;31m# Unknown object, fall back to the emptyPrinter. Checks what type of\u001b[0m\u001b[1;33m\u001b[0m\u001b[1;33m\u001b[0m\u001b[1;33m\u001b[0m\u001b[0m\n\u001b[0;32m    291\u001b[0m             \u001b[1;31m# decimal separator to print.\u001b[0m\u001b[1;33m\u001b[0m\u001b[1;33m\u001b[0m\u001b[1;33m\u001b[0m\u001b[0m\n",
      "\u001b[1;32mc:\\users\\i\\appdata\\local\\programs\\python\\python36\\lib\\site-packages\\sympy\\printing\\codeprinter.py\u001b[0m in \u001b[0;36m_print_Mul\u001b[1;34m(self, expr)\u001b[0m\n\u001b[0;32m    487\u001b[0m         \u001b[0ma\u001b[0m \u001b[1;33m=\u001b[0m \u001b[0ma\u001b[0m \u001b[1;32mor\u001b[0m \u001b[1;33m[\u001b[0m\u001b[0mS\u001b[0m\u001b[1;33m.\u001b[0m\u001b[0mOne\u001b[0m\u001b[1;33m]\u001b[0m\u001b[1;33m\u001b[0m\u001b[1;33m\u001b[0m\u001b[0m\n\u001b[0;32m    488\u001b[0m \u001b[1;33m\u001b[0m\u001b[0m\n\u001b[1;32m--> 489\u001b[1;33m         \u001b[0ma_str\u001b[0m \u001b[1;33m=\u001b[0m \u001b[1;33m[\u001b[0m\u001b[0mself\u001b[0m\u001b[1;33m.\u001b[0m\u001b[0mparenthesize\u001b[0m\u001b[1;33m(\u001b[0m\u001b[0mx\u001b[0m\u001b[1;33m,\u001b[0m \u001b[0mprec\u001b[0m\u001b[1;33m)\u001b[0m \u001b[1;32mfor\u001b[0m \u001b[0mx\u001b[0m \u001b[1;32min\u001b[0m \u001b[0ma\u001b[0m\u001b[1;33m]\u001b[0m\u001b[1;33m\u001b[0m\u001b[1;33m\u001b[0m\u001b[0m\n\u001b[0m\u001b[0;32m    490\u001b[0m         \u001b[0mb_str\u001b[0m \u001b[1;33m=\u001b[0m \u001b[1;33m[\u001b[0m\u001b[0mself\u001b[0m\u001b[1;33m.\u001b[0m\u001b[0mparenthesize\u001b[0m\u001b[1;33m(\u001b[0m\u001b[0mx\u001b[0m\u001b[1;33m,\u001b[0m \u001b[0mprec\u001b[0m\u001b[1;33m)\u001b[0m \u001b[1;32mfor\u001b[0m \u001b[0mx\u001b[0m \u001b[1;32min\u001b[0m \u001b[0mb\u001b[0m\u001b[1;33m]\u001b[0m\u001b[1;33m\u001b[0m\u001b[1;33m\u001b[0m\u001b[0m\n\u001b[0;32m    491\u001b[0m \u001b[1;33m\u001b[0m\u001b[0m\n",
      "\u001b[1;32mc:\\users\\i\\appdata\\local\\programs\\python\\python36\\lib\\site-packages\\sympy\\printing\\codeprinter.py\u001b[0m in \u001b[0;36m<listcomp>\u001b[1;34m(.0)\u001b[0m\n\u001b[0;32m    487\u001b[0m         \u001b[0ma\u001b[0m \u001b[1;33m=\u001b[0m \u001b[0ma\u001b[0m \u001b[1;32mor\u001b[0m \u001b[1;33m[\u001b[0m\u001b[0mS\u001b[0m\u001b[1;33m.\u001b[0m\u001b[0mOne\u001b[0m\u001b[1;33m]\u001b[0m\u001b[1;33m\u001b[0m\u001b[1;33m\u001b[0m\u001b[0m\n\u001b[0;32m    488\u001b[0m \u001b[1;33m\u001b[0m\u001b[0m\n\u001b[1;32m--> 489\u001b[1;33m         \u001b[0ma_str\u001b[0m \u001b[1;33m=\u001b[0m \u001b[1;33m[\u001b[0m\u001b[0mself\u001b[0m\u001b[1;33m.\u001b[0m\u001b[0mparenthesize\u001b[0m\u001b[1;33m(\u001b[0m\u001b[0mx\u001b[0m\u001b[1;33m,\u001b[0m \u001b[0mprec\u001b[0m\u001b[1;33m)\u001b[0m \u001b[1;32mfor\u001b[0m \u001b[0mx\u001b[0m \u001b[1;32min\u001b[0m \u001b[0ma\u001b[0m\u001b[1;33m]\u001b[0m\u001b[1;33m\u001b[0m\u001b[1;33m\u001b[0m\u001b[0m\n\u001b[0m\u001b[0;32m    490\u001b[0m         \u001b[0mb_str\u001b[0m \u001b[1;33m=\u001b[0m \u001b[1;33m[\u001b[0m\u001b[0mself\u001b[0m\u001b[1;33m.\u001b[0m\u001b[0mparenthesize\u001b[0m\u001b[1;33m(\u001b[0m\u001b[0mx\u001b[0m\u001b[1;33m,\u001b[0m \u001b[0mprec\u001b[0m\u001b[1;33m)\u001b[0m \u001b[1;32mfor\u001b[0m \u001b[0mx\u001b[0m \u001b[1;32min\u001b[0m \u001b[0mb\u001b[0m\u001b[1;33m]\u001b[0m\u001b[1;33m\u001b[0m\u001b[1;33m\u001b[0m\u001b[0m\n\u001b[0;32m    491\u001b[0m \u001b[1;33m\u001b[0m\u001b[0m\n",
      "\u001b[1;32mc:\\users\\i\\appdata\\local\\programs\\python\\python36\\lib\\site-packages\\sympy\\printing\\str.py\u001b[0m in \u001b[0;36mparenthesize\u001b[1;34m(self, item, level, strict)\u001b[0m\n\u001b[0;32m     33\u001b[0m     \u001b[1;32mdef\u001b[0m \u001b[0mparenthesize\u001b[0m\u001b[1;33m(\u001b[0m\u001b[0mself\u001b[0m\u001b[1;33m,\u001b[0m \u001b[0mitem\u001b[0m\u001b[1;33m,\u001b[0m \u001b[0mlevel\u001b[0m\u001b[1;33m,\u001b[0m \u001b[0mstrict\u001b[0m\u001b[1;33m=\u001b[0m\u001b[1;32mFalse\u001b[0m\u001b[1;33m)\u001b[0m\u001b[1;33m:\u001b[0m\u001b[1;33m\u001b[0m\u001b[1;33m\u001b[0m\u001b[0m\n\u001b[0;32m     34\u001b[0m         \u001b[1;32mif\u001b[0m \u001b[1;33m(\u001b[0m\u001b[0mprecedence\u001b[0m\u001b[1;33m(\u001b[0m\u001b[0mitem\u001b[0m\u001b[1;33m)\u001b[0m \u001b[1;33m<\u001b[0m \u001b[0mlevel\u001b[0m\u001b[1;33m)\u001b[0m \u001b[1;32mor\u001b[0m \u001b[1;33m(\u001b[0m\u001b[1;33m(\u001b[0m\u001b[1;32mnot\u001b[0m \u001b[0mstrict\u001b[0m\u001b[1;33m)\u001b[0m \u001b[1;32mand\u001b[0m \u001b[0mprecedence\u001b[0m\u001b[1;33m(\u001b[0m\u001b[0mitem\u001b[0m\u001b[1;33m)\u001b[0m \u001b[1;33m<=\u001b[0m \u001b[0mlevel\u001b[0m\u001b[1;33m)\u001b[0m\u001b[1;33m:\u001b[0m\u001b[1;33m\u001b[0m\u001b[1;33m\u001b[0m\u001b[0m\n\u001b[1;32m---> 35\u001b[1;33m             \u001b[1;32mreturn\u001b[0m \u001b[1;34m\"(%s)\"\u001b[0m \u001b[1;33m%\u001b[0m \u001b[0mself\u001b[0m\u001b[1;33m.\u001b[0m\u001b[0m_print\u001b[0m\u001b[1;33m(\u001b[0m\u001b[0mitem\u001b[0m\u001b[1;33m)\u001b[0m\u001b[1;33m\u001b[0m\u001b[1;33m\u001b[0m\u001b[0m\n\u001b[0m\u001b[0;32m     36\u001b[0m         \u001b[1;32melse\u001b[0m\u001b[1;33m:\u001b[0m\u001b[1;33m\u001b[0m\u001b[1;33m\u001b[0m\u001b[0m\n\u001b[0;32m     37\u001b[0m             \u001b[1;32mreturn\u001b[0m \u001b[0mself\u001b[0m\u001b[1;33m.\u001b[0m\u001b[0m_print\u001b[0m\u001b[1;33m(\u001b[0m\u001b[0mitem\u001b[0m\u001b[1;33m)\u001b[0m\u001b[1;33m\u001b[0m\u001b[1;33m\u001b[0m\u001b[0m\n",
      "\u001b[1;32mc:\\users\\i\\appdata\\local\\programs\\python\\python36\\lib\\site-packages\\sympy\\printing\\printer.py\u001b[0m in \u001b[0;36m_print\u001b[1;34m(self, expr, **kwargs)\u001b[0m\n\u001b[0;32m    287\u001b[0m                 \u001b[0mprintmethod\u001b[0m \u001b[1;33m=\u001b[0m \u001b[1;34m'_print_'\u001b[0m \u001b[1;33m+\u001b[0m \u001b[0mcls\u001b[0m\u001b[1;33m.\u001b[0m\u001b[0m__name__\u001b[0m\u001b[1;33m\u001b[0m\u001b[1;33m\u001b[0m\u001b[0m\n\u001b[0;32m    288\u001b[0m                 \u001b[1;32mif\u001b[0m \u001b[0mhasattr\u001b[0m\u001b[1;33m(\u001b[0m\u001b[0mself\u001b[0m\u001b[1;33m,\u001b[0m \u001b[0mprintmethod\u001b[0m\u001b[1;33m)\u001b[0m\u001b[1;33m:\u001b[0m\u001b[1;33m\u001b[0m\u001b[1;33m\u001b[0m\u001b[0m\n\u001b[1;32m--> 289\u001b[1;33m                     \u001b[1;32mreturn\u001b[0m \u001b[0mgetattr\u001b[0m\u001b[1;33m(\u001b[0m\u001b[0mself\u001b[0m\u001b[1;33m,\u001b[0m \u001b[0mprintmethod\u001b[0m\u001b[1;33m)\u001b[0m\u001b[1;33m(\u001b[0m\u001b[0mexpr\u001b[0m\u001b[1;33m,\u001b[0m \u001b[1;33m**\u001b[0m\u001b[0mkwargs\u001b[0m\u001b[1;33m)\u001b[0m\u001b[1;33m\u001b[0m\u001b[1;33m\u001b[0m\u001b[0m\n\u001b[0m\u001b[0;32m    290\u001b[0m             \u001b[1;31m# Unknown object, fall back to the emptyPrinter. Checks what type of\u001b[0m\u001b[1;33m\u001b[0m\u001b[1;33m\u001b[0m\u001b[1;33m\u001b[0m\u001b[0m\n\u001b[0;32m    291\u001b[0m             \u001b[1;31m# decimal separator to print.\u001b[0m\u001b[1;33m\u001b[0m\u001b[1;33m\u001b[0m\u001b[1;33m\u001b[0m\u001b[0m\n",
      "\u001b[1;32mc:\\users\\i\\appdata\\local\\programs\\python\\python36\\lib\\site-packages\\sympy\\printing\\str.py\u001b[0m in \u001b[0;36m_print_Add\u001b[1;34m(self, expr, order)\u001b[0m\n\u001b[0;32m     49\u001b[0m \u001b[1;33m\u001b[0m\u001b[0m\n\u001b[0;32m     50\u001b[0m     \u001b[1;32mdef\u001b[0m \u001b[0m_print_Add\u001b[0m\u001b[1;33m(\u001b[0m\u001b[0mself\u001b[0m\u001b[1;33m,\u001b[0m \u001b[0mexpr\u001b[0m\u001b[1;33m,\u001b[0m \u001b[0morder\u001b[0m\u001b[1;33m=\u001b[0m\u001b[1;32mNone\u001b[0m\u001b[1;33m)\u001b[0m\u001b[1;33m:\u001b[0m\u001b[1;33m\u001b[0m\u001b[1;33m\u001b[0m\u001b[0m\n\u001b[1;32m---> 51\u001b[1;33m         \u001b[0mterms\u001b[0m \u001b[1;33m=\u001b[0m \u001b[0mself\u001b[0m\u001b[1;33m.\u001b[0m\u001b[0m_as_ordered_terms\u001b[0m\u001b[1;33m(\u001b[0m\u001b[0mexpr\u001b[0m\u001b[1;33m,\u001b[0m \u001b[0morder\u001b[0m\u001b[1;33m=\u001b[0m\u001b[0morder\u001b[0m\u001b[1;33m)\u001b[0m\u001b[1;33m\u001b[0m\u001b[1;33m\u001b[0m\u001b[0m\n\u001b[0m\u001b[0;32m     52\u001b[0m \u001b[1;33m\u001b[0m\u001b[0m\n\u001b[0;32m     53\u001b[0m         \u001b[0mPREC\u001b[0m \u001b[1;33m=\u001b[0m \u001b[0mprecedence\u001b[0m\u001b[1;33m(\u001b[0m\u001b[0mexpr\u001b[0m\u001b[1;33m)\u001b[0m\u001b[1;33m\u001b[0m\u001b[1;33m\u001b[0m\u001b[0m\n",
      "\u001b[1;32mc:\\users\\i\\appdata\\local\\programs\\python\\python36\\lib\\site-packages\\sympy\\printing\\printer.py\u001b[0m in \u001b[0;36m_as_ordered_terms\u001b[1;34m(self, expr, order)\u001b[0m\n\u001b[0;32m    306\u001b[0m             \u001b[1;32mreturn\u001b[0m \u001b[0mlist\u001b[0m\u001b[1;33m(\u001b[0m\u001b[0mexpr\u001b[0m\u001b[1;33m.\u001b[0m\u001b[0margs\u001b[0m\u001b[1;33m)\u001b[0m\u001b[1;33m\u001b[0m\u001b[1;33m\u001b[0m\u001b[0m\n\u001b[0;32m    307\u001b[0m         \u001b[1;32melse\u001b[0m\u001b[1;33m:\u001b[0m\u001b[1;33m\u001b[0m\u001b[1;33m\u001b[0m\u001b[0m\n\u001b[1;32m--> 308\u001b[1;33m             \u001b[1;32mreturn\u001b[0m \u001b[0mexpr\u001b[0m\u001b[1;33m.\u001b[0m\u001b[0mas_ordered_terms\u001b[0m\u001b[1;33m(\u001b[0m\u001b[0morder\u001b[0m\u001b[1;33m=\u001b[0m\u001b[0morder\u001b[0m\u001b[1;33m)\u001b[0m\u001b[1;33m\u001b[0m\u001b[1;33m\u001b[0m\u001b[0m\n\u001b[0m",
      "\u001b[1;32mc:\\users\\i\\appdata\\local\\programs\\python\\python36\\lib\\site-packages\\sympy\\core\\expr.py\u001b[0m in \u001b[0;36mas_ordered_terms\u001b[1;34m(self, order, data)\u001b[0m\n\u001b[0;32m   1145\u001b[0m \u001b[1;33m\u001b[0m\u001b[0m\n\u001b[0;32m   1146\u001b[0m         \u001b[0mkey\u001b[0m\u001b[1;33m,\u001b[0m \u001b[0mreverse\u001b[0m \u001b[1;33m=\u001b[0m \u001b[0mself\u001b[0m\u001b[1;33m.\u001b[0m\u001b[0m_parse_order\u001b[0m\u001b[1;33m(\u001b[0m\u001b[0morder\u001b[0m\u001b[1;33m)\u001b[0m\u001b[1;33m\u001b[0m\u001b[1;33m\u001b[0m\u001b[0m\n\u001b[1;32m-> 1147\u001b[1;33m         \u001b[0mterms\u001b[0m\u001b[1;33m,\u001b[0m \u001b[0mgens\u001b[0m \u001b[1;33m=\u001b[0m \u001b[0mself\u001b[0m\u001b[1;33m.\u001b[0m\u001b[0mas_terms\u001b[0m\u001b[1;33m(\u001b[0m\u001b[1;33m)\u001b[0m\u001b[1;33m\u001b[0m\u001b[1;33m\u001b[0m\u001b[0m\n\u001b[0m\u001b[0;32m   1148\u001b[0m \u001b[1;33m\u001b[0m\u001b[0m\n\u001b[0;32m   1149\u001b[0m         \u001b[1;32mif\u001b[0m \u001b[1;32mnot\u001b[0m \u001b[0many\u001b[0m\u001b[1;33m(\u001b[0m\u001b[0mterm\u001b[0m\u001b[1;33m.\u001b[0m\u001b[0mis_Order\u001b[0m \u001b[1;32mfor\u001b[0m \u001b[0mterm\u001b[0m\u001b[1;33m,\u001b[0m \u001b[0m_\u001b[0m \u001b[1;32min\u001b[0m \u001b[0mterms\u001b[0m\u001b[1;33m)\u001b[0m\u001b[1;33m:\u001b[0m\u001b[1;33m\u001b[0m\u001b[1;33m\u001b[0m\u001b[0m\n",
      "\u001b[1;32mc:\\users\\i\\appdata\\local\\programs\\python\\python36\\lib\\site-packages\\sympy\\core\\expr.py\u001b[0m in \u001b[0;36mas_terms\u001b[1;34m(self)\u001b[0m\n\u001b[0;32m   1203\u001b[0m             \u001b[0mterms\u001b[0m\u001b[1;33m.\u001b[0m\u001b[0mappend\u001b[0m\u001b[1;33m(\u001b[0m\u001b[1;33m(\u001b[0m\u001b[0mterm\u001b[0m\u001b[1;33m,\u001b[0m \u001b[1;33m(\u001b[0m\u001b[0mcoeff\u001b[0m\u001b[1;33m,\u001b[0m \u001b[0mcpart\u001b[0m\u001b[1;33m,\u001b[0m \u001b[0mncpart\u001b[0m\u001b[1;33m)\u001b[0m\u001b[1;33m)\u001b[0m\u001b[1;33m)\u001b[0m\u001b[1;33m\u001b[0m\u001b[1;33m\u001b[0m\u001b[0m\n\u001b[0;32m   1204\u001b[0m \u001b[1;33m\u001b[0m\u001b[0m\n\u001b[1;32m-> 1205\u001b[1;33m         \u001b[0mgens\u001b[0m \u001b[1;33m=\u001b[0m \u001b[0msorted\u001b[0m\u001b[1;33m(\u001b[0m\u001b[0mgens\u001b[0m\u001b[1;33m,\u001b[0m \u001b[0mkey\u001b[0m\u001b[1;33m=\u001b[0m\u001b[0mdefault_sort_key\u001b[0m\u001b[1;33m)\u001b[0m\u001b[1;33m\u001b[0m\u001b[1;33m\u001b[0m\u001b[0m\n\u001b[0m\u001b[0;32m   1206\u001b[0m \u001b[1;33m\u001b[0m\u001b[0m\n\u001b[0;32m   1207\u001b[0m         \u001b[0mk\u001b[0m\u001b[1;33m,\u001b[0m \u001b[0mindices\u001b[0m \u001b[1;33m=\u001b[0m \u001b[0mlen\u001b[0m\u001b[1;33m(\u001b[0m\u001b[0mgens\u001b[0m\u001b[1;33m)\u001b[0m\u001b[1;33m,\u001b[0m \u001b[1;33m{\u001b[0m\u001b[1;33m}\u001b[0m\u001b[1;33m\u001b[0m\u001b[1;33m\u001b[0m\u001b[0m\n",
      "\u001b[1;32mc:\\users\\i\\appdata\\local\\programs\\python\\python36\\lib\\site-packages\\sympy\\core\\compatibility.py\u001b[0m in \u001b[0;36mdefault_sort_key\u001b[1;34m(item, order)\u001b[0m\n\u001b[0;32m    500\u001b[0m \u001b[1;33m\u001b[0m\u001b[0m\n\u001b[0;32m    501\u001b[0m     \u001b[1;32mfrom\u001b[0m \u001b[1;33m.\u001b[0m\u001b[0msingleton\u001b[0m \u001b[1;32mimport\u001b[0m \u001b[0mS\u001b[0m\u001b[1;33m\u001b[0m\u001b[1;33m\u001b[0m\u001b[0m\n\u001b[1;32m--> 502\u001b[1;33m     \u001b[1;32mfrom\u001b[0m \u001b[1;33m.\u001b[0m\u001b[0mbasic\u001b[0m \u001b[1;32mimport\u001b[0m \u001b[0mBasic\u001b[0m\u001b[1;33m\u001b[0m\u001b[1;33m\u001b[0m\u001b[0m\n\u001b[0m\u001b[0;32m    503\u001b[0m     \u001b[1;32mfrom\u001b[0m \u001b[1;33m.\u001b[0m\u001b[0msympify\u001b[0m \u001b[1;32mimport\u001b[0m \u001b[0msympify\u001b[0m\u001b[1;33m,\u001b[0m \u001b[0mSympifyError\u001b[0m\u001b[1;33m\u001b[0m\u001b[1;33m\u001b[0m\u001b[0m\n\u001b[0;32m    504\u001b[0m     \u001b[1;32mfrom\u001b[0m \u001b[1;33m.\u001b[0m\u001b[0mcompatibility\u001b[0m \u001b[1;32mimport\u001b[0m \u001b[0miterable\u001b[0m\u001b[1;33m\u001b[0m\u001b[1;33m\u001b[0m\u001b[0m\n",
      "\u001b[1;32mc:\\users\\i\\appdata\\local\\programs\\python\\python36\\lib\\importlib\\_bootstrap.py\u001b[0m in \u001b[0;36mparent\u001b[1;34m(self)\u001b[0m\n",
      "\u001b[1;31mKeyboardInterrupt\u001b[0m: "
     ]
    }
   ],
   "source": [
    "%%time\n",
    "\n",
    "\n",
    "\n",
    "lr = 0.01\n",
    "\n",
    "lr_primary = deepcopy(lr)\n",
    "\n",
    "\n",
    "\n",
    "loss_history = np.array([])\n",
    "\n",
    "\n",
    "\n",
    "while True: # ну пусть так \n",
    "    \n",
    "    \n",
    "    loss_funk = lambdify([li], \"(\"+net2+\"-y1)**2\", 'numpy') # вычислим лосс\n",
    "    loss = np.sum(loss_funk(zna))/Y.size\n",
    "    print(loss)\n",
    "    \n",
    "    \n",
    "    \n",
    "    loss_history = np.append(loss_history, loss) # небольшая оптимизация Learning Rate\n",
    "    if len(loss_history)>=2:\n",
    "        if loss_history[-1]> loss_history[-2]:\n",
    "            lr=lr/10\n",
    "            print(\"LEARNING RATE = \",  lr) \n",
    "            \n",
    "        elif loss_history[-2]*0.90<loss_history[-1]: # здесь я выбрал 90%\n",
    "            lr=lr+lr_primary\n",
    "            print(\"LEARNING RATE = \", lr)\n",
    "    \n",
    "    \n",
    "    \n",
    "    s = 0\n",
    "    for i in li_dif: # перем с списка формулы производных и считаем поправку (градиент) для каждого\n",
    "        \n",
    "        proiz = lambdify([li], i , 'numpy') # создается функция. Передаем список аргументов, формулу производной. Формат Numpy\n",
    "\n",
    "        grad = np.sum(proiz(zna))/Y.size  # усредняем поправку\n",
    "    \n",
    "        zna[s] = zna[s] - lr*grad # делаем шаг\n",
    "        s+=1\n",
    "    \n",
    "    \n",
    "    \n",
    "    \n",
    "       \n",
    "    \n"
   ]
  },
  {
   "cell_type": "code",
   "execution_count": null,
   "metadata": {},
   "outputs": [],
   "source": []
  }
 ],
 "metadata": {
  "celltoolbar": "Необработанный формат ячейки",
  "kernelspec": {
   "display_name": "Python 3",
   "language": "python",
   "name": "python3"
  },
  "language_info": {
   "codemirror_mode": {
    "name": "ipython",
    "version": 3
   },
   "file_extension": ".py",
   "mimetype": "text/x-python",
   "name": "python",
   "nbconvert_exporter": "python",
   "pygments_lexer": "ipython3",
   "version": "3.6.8"
  }
 },
 "nbformat": 4,
 "nbformat_minor": 4
}
